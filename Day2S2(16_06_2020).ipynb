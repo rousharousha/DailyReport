{
  "nbformat": 4,
  "nbformat_minor": 0,
  "metadata": {
    "colab": {
      "name": "Day2S2(16-06-2020).ipynb",
      "provenance": [],
      "authorship_tag": "ABX9TyO0TIEgAltvoHrPL/CfBLU2",
      "include_colab_link": true
    },
    "kernelspec": {
      "name": "python3",
      "display_name": "Python 3"
    }
  },
  "cells": [
    {
      "cell_type": "markdown",
      "metadata": {
        "id": "view-in-github",
        "colab_type": "text"
      },
      "source": [
        "<a href=\"https://colab.research.google.com/github/rousharousha/DailyReport/blob/master/Day2S2(16_06_2020).ipynb\" target=\"_parent\"><img src=\"https://colab.research.google.com/assets/colab-badge.svg\" alt=\"Open In Colab\"/></a>"
      ]
    },
    {
      "cell_type": "markdown",
      "metadata": {
        "id": "kcqb4LP-MBxZ",
        "colab_type": "text"
      },
      "source": [
        "Dictionary Examples"
      ]
    },
    {
      "cell_type": "code",
      "metadata": {
        "id": "bEYGAzqYLTbz",
        "colab_type": "code",
        "colab": {
          "base_uri": "https://localhost:8080/",
          "height": 51
        },
        "outputId": "f30d5bf8-1582-428c-f5f0-9ec41a62df3e"
      },
      "source": [
        "#dict.clear()\n",
        "\n",
        "#Removes all elements of dictionary dict\n",
        "\n",
        " \n",
        "\n",
        "dict = {'Name': 'Zara', 'Age': 7};\n",
        "\n",
        "print(\"Start Len : %d\" %  len(dict))\n",
        "\n",
        "dict.clear()\n",
        "\n",
        "print(\"End Len : %d\" %  len(dict))"
      ],
      "execution_count": 1,
      "outputs": [
        {
          "output_type": "stream",
          "text": [
            "Start Len : 2\n",
            "End Len : 0\n"
          ],
          "name": "stdout"
        }
      ]
    },
    {
      "cell_type": "code",
      "metadata": {
        "id": "W4AA_mdjMIkn",
        "colab_type": "code",
        "colab": {
          "base_uri": "https://localhost:8080/",
          "height": 34
        },
        "outputId": "cbbf9af8-eb0b-4836-b33a-b243f780a9c9"
      },
      "source": [
        "#dict.items()\n",
        "\n",
        "#Returns a list of dict's (key, value) tuple pairs\n",
        "\n",
        " \n",
        "\n",
        "dict = {'Name': 'Zara', 'Age': 7}\n",
        "\n",
        "print (\"Value : %s\" %  dict.items())"
      ],
      "execution_count": 2,
      "outputs": [
        {
          "output_type": "stream",
          "text": [
            "Value : dict_items([('Name', 'Zara'), ('Age', 7)])\n"
          ],
          "name": "stdout"
        }
      ]
    },
    {
      "cell_type": "code",
      "metadata": {
        "id": "4qrkb5AMMOFW",
        "colab_type": "code",
        "colab": {
          "base_uri": "https://localhost:8080/",
          "height": 34
        },
        "outputId": "9ca533c3-d41f-4385-c6d7-31ff8b59dbee"
      },
      "source": [
        "# dict.copy()\n",
        "\n",
        "#Returns a copy of dictionary dict\n",
        "\n",
        " \n",
        "\n",
        "dict1 = {'Name': 'Zara', 'Age': 7};\n",
        "\n",
        "dict2 = dict1.copy()\n",
        "\n",
        "print (\"New Dictinary : %s\" %  str(dict2))"
      ],
      "execution_count": 3,
      "outputs": [
        {
          "output_type": "stream",
          "text": [
            "New Dictinary : {'Name': 'Zara', 'Age': 7}\n"
          ],
          "name": "stdout"
        }
      ]
    },
    {
      "cell_type": "code",
      "metadata": {
        "id": "p9eHmGDpMVXz",
        "colab_type": "code",
        "colab": {
          "base_uri": "https://localhost:8080/",
          "height": 51
        },
        "outputId": "446b60ec-0425-4542-de21-a87cf3e3712e"
      },
      "source": [
        "#Python Program to Generate a Dictionary that Contains Numbers (between 1 and n) in the Form (x,x*x).\n",
        "n=int(input(\"Enter a number:\"))\n",
        "\n",
        "d={x:x*x for x in range(1,n+1)}\n",
        "\n",
        "print(d)"
      ],
      "execution_count": 5,
      "outputs": [
        {
          "output_type": "stream",
          "text": [
            "Enter a number:2\n",
            "{1: 1, 2: 4}\n"
          ],
          "name": "stdout"
        }
      ]
    },
    {
      "cell_type": "code",
      "metadata": {
        "id": "2ePK7eKgMmUs",
        "colab_type": "code",
        "colab": {
          "base_uri": "https://localhost:8080/",
          "height": 51
        },
        "outputId": "d63bff92-b637-42e1-8da0-d2d8a5b8eb42"
      },
      "source": [
        "#Python Program to Sum All the Items in a Dictionary\n",
        "d={'A':100,'B':540,'C':239}\n",
        "\n",
        "print(\"Total sum of values in the dictionary:\")\n",
        "\n",
        "print(sum(d.values()))"
      ],
      "execution_count": 7,
      "outputs": [
        {
          "output_type": "stream",
          "text": [
            "Total sum of values in the dictionary:\n",
            "879\n"
          ],
          "name": "stdout"
        }
      ]
    },
    {
      "cell_type": "code",
      "metadata": {
        "id": "-paWZGPgMupN",
        "colab_type": "code",
        "colab": {
          "base_uri": "https://localhost:8080/",
          "height": 119
        },
        "outputId": "104b2996-cbe4-44c5-f9b3-e1fbbadf17bd"
      },
      "source": [
        "#Python Program to Remove the Given Key from a Dictionary\n",
        "d = {'a':1,'b':2,'c':3,'d':4}\n",
        "\n",
        "print(\"Initial dictionary\")\n",
        "\n",
        "print(d)\n",
        "\n",
        "key=input(\"Enter the key to delete(a-d):\")\n",
        "\n",
        "if key in d:\n",
        "\n",
        "    del d[key]\n",
        "\n",
        "else:\n",
        "\n",
        "    print(\"Key not found!\")\n",
        "\n",
        "    exit(0)\n",
        "\n",
        "print(\"Updated dictionary\")\n",
        "\n",
        "print(d)"
      ],
      "execution_count": 8,
      "outputs": [
        {
          "output_type": "stream",
          "text": [
            "Initial dictionary\n",
            "{'a': 1, 'b': 2, 'c': 3, 'd': 4}\n",
            "Enter the key to delete(a-d):2\n",
            "Key not found!\n",
            "Updated dictionary\n",
            "{'a': 1, 'b': 2, 'c': 3, 'd': 4}\n"
          ],
          "name": "stdout"
        }
      ]
    },
    {
      "cell_type": "code",
      "metadata": {
        "id": "FtZyHCM7M7F-",
        "colab_type": "code",
        "colab": {
          "base_uri": "https://localhost:8080/",
          "height": 136
        },
        "outputId": "1136f9f4-6b96-418a-d543-000e8551bf34"
      },
      "source": [
        "#Python Program to add name and mark as key->value pair in  a Dictionary and print it.\n",
        "n=int(input(\"Enter no of records\"))\n",
        "\n",
        "d={}\n",
        "\n",
        "for i in range(1,n+1):\n",
        "\n",
        "    name= input(\"Enter name %d\"%(i))\n",
        "\n",
        "    mark=int(input(\"Enter mark %d\"%(i)))\n",
        "\n",
        "    d[name]=mark\n",
        "\n",
        "    print (d)"
      ],
      "execution_count": 2,
      "outputs": [
        {
          "output_type": "stream",
          "text": [
            "Enter no of records2\n",
            "Enter name 1geetha\n",
            "Enter mark 156\n",
            "{'geetha': 56}\n",
            "Enter name 2raksha\n",
            "Enter mark 245\n",
            "{'geetha': 56, 'raksha': 45}\n"
          ],
          "name": "stdout"
        }
      ]
    },
    {
      "cell_type": "code",
      "metadata": {
        "id": "hKHFm-elNPX1",
        "colab_type": "code",
        "colab": {
          "base_uri": "https://localhost:8080/",
          "height": 493
        },
        "outputId": "60672fb2-504f-4279-cdbd-0d78d18e10fd"
      },
      "source": [
        "# Keys and Values example\n",
        "\n",
        "d={}\n",
        "\n",
        "print (\" The dictionary elements are\")\n",
        "\n",
        "for i in range(1,21):\n",
        "\n",
        "    d[i]=i**2\n",
        "\n",
        "print (d)\n",
        "\n",
        "# To print key and values\n",
        "\n",
        "print (\" Key==> Value are\")\n",
        "\n",
        "for (k,v) in d.items():         \n",
        "\n",
        "    print(k,\"==>\",v)\n",
        "\n",
        "# To print key only\n",
        "\n",
        "print (\"\\nTo print key only\")\n",
        "\n",
        "for k in d.keys():    \n",
        "\n",
        "    print(k, end=\" \")\n",
        "\n",
        "#To print value only\n",
        "\n",
        "print (\"\\nTo print values only\")\n",
        "\n",
        "for v in d.values(): \n",
        "\n",
        "  print(v, end=\" \")"
      ],
      "execution_count": 15,
      "outputs": [
        {
          "output_type": "stream",
          "text": [
            " The dictionary elements are\n",
            "{1: 1, 2: 4, 3: 9, 4: 16, 5: 25, 6: 36, 7: 49, 8: 64, 9: 81, 10: 100, 11: 121, 12: 144, 13: 169, 14: 196, 15: 225, 16: 256, 17: 289, 18: 324, 19: 361, 20: 400}\n",
            " Key==> Value are\n",
            "1 ==> 1\n",
            "2 ==> 4\n",
            "3 ==> 9\n",
            "4 ==> 16\n",
            "5 ==> 25\n",
            "6 ==> 36\n",
            "7 ==> 49\n",
            "8 ==> 64\n",
            "9 ==> 81\n",
            "10 ==> 100\n",
            "11 ==> 121\n",
            "12 ==> 144\n",
            "13 ==> 169\n",
            "14 ==> 196\n",
            "15 ==> 225\n",
            "16 ==> 256\n",
            "17 ==> 289\n",
            "18 ==> 324\n",
            "19 ==> 361\n",
            "20 ==> 400\n",
            "\n",
            "To print key only\n",
            "1 2 3 4 5 6 7 8 9 10 11 12 13 14 15 16 17 18 19 20 \n",
            "To print values only\n",
            "1 4 9 16 25 36 49 64 81 100 121 144 169 196 225 256 289 324 361 400 "
          ],
          "name": "stdout"
        }
      ]
    },
    {
      "cell_type": "code",
      "metadata": {
        "id": "GHolZOWxNbLu",
        "colab_type": "code",
        "colab": {
          "base_uri": "https://localhost:8080/",
          "height": 51
        },
        "outputId": "651bd296-9cee-4f20-c9c4-0edc08cc2312"
      },
      "source": [
        "#Python program to convert 2 digit number   into words\n",
        "\n",
        " \n",
        "\n",
        "d={0:'',1:'one',2:'two',3:'three',4:'four',5:'five',6:'six',7:'seven',8:'eight',9:'nine',\\\n",
        "\n",
        "   10:'ten',11:'eleven',12:'twelve',13:'thirteen',14:'fourteen',15:'fifteen',16:'sixteen',\\\n",
        "\n",
        "   17:'seventeen',18:'eightteen',19:'nineteen',20:'twenty',30:'thirty',40:'fourty',50:'fifty',\\\n",
        "\n",
        "   60:'sixty',70:'seventy',80:'eighty',90:'ninty'}\n",
        "\n",
        " \n",
        "\n",
        "num=int(input(\"Enter the integer between 1 to 99:\"))\n",
        "\n",
        "if (num<=20):\n",
        "\n",
        "      print(d[num])\n",
        "\n",
        "if(num>20 and num<100):\n",
        "\n",
        "        if num%10==0:      \n",
        "\n",
        "            print(d[num])\n",
        "\n",
        "        else:\n",
        "\n",
        "            print(d[num//10*10]+\" \"+d[num%10])"
      ],
      "execution_count": 5,
      "outputs": [
        {
          "output_type": "stream",
          "text": [
            "Enter the integer between 1 to 99:56\n",
            "fifty six\n"
          ],
          "name": "stdout"
        }
      ]
    },
    {
      "cell_type": "code",
      "metadata": {
        "id": "l90W7GSbN2T2",
        "colab_type": "code",
        "colab": {
          "base_uri": "https://localhost:8080/",
          "height": 51
        },
        "outputId": "ee6c3d3f-fc63-4464-edef-d31290dff410"
      },
      "source": [
        "#How to sort a dictionary by values in Python\n",
        " \n",
        "d = {\"Pierre\": 42, \"Anne\": 33, \"Zoe\": 24}\n",
        "\n",
        "#Use the sorted function and operator module\n",
        "\n",
        "import operator\n",
        "\n",
        "sorted_d = sorted(d.items(), key=operator.itemgetter(1))\n",
        "\n",
        "print(sorted_d)\n",
        "\n",
        "sorted_a= sorted(d.items(), key=operator.itemgetter(1),reverse=True)\n",
        "\n",
        "print(sorted_a)"
      ],
      "execution_count": 7,
      "outputs": [
        {
          "output_type": "stream",
          "text": [
            "[('Zoe', 24), ('Anne', 33), ('Pierre', 42)]\n",
            "[('Pierre', 42), ('Anne', 33), ('Zoe', 24)]\n"
          ],
          "name": "stdout"
        }
      ]
    },
    {
      "cell_type": "markdown",
      "metadata": {
        "id": "QneycJM7OTKO",
        "colab_type": "text"
      },
      "source": [
        "Dictionary Exercises"
      ]
    },
    {
      "cell_type": "code",
      "metadata": {
        "id": "61eRHKCfOHkL",
        "colab_type": "code",
        "colab": {
          "base_uri": "https://localhost:8080/",
          "height": 136
        },
        "outputId": "b95f7d4d-94da-45f1-c938-126ac8fa182c"
      },
      "source": [
        "#1.Add rollno and marks {name:mark} for n number of students through keyboard in a dictionary and print the marks in descending order with respective name.\n",
        "n=int(input(\"Enter no of records\"))\n",
        "d={}\n",
        "import operator\n",
        "for i in range(1,n+1):\n",
        "  name= input(\"Enter name %d\"%(i))\n",
        "  mark=int(input(\"Enter mark %d\"%(i)))\n",
        "  d[name]=mark\n",
        "print(\"input: \",d)\n",
        "sorted_a= sorted(d.items(), key=operator.itemgetter(1),reverse=True)\n",
        "print(\"output: \",sorted_a)"
      ],
      "execution_count": 8,
      "outputs": [
        {
          "output_type": "stream",
          "text": [
            "Enter no of records2\n",
            "Enter name 1geetha\n",
            "Enter mark 123\n",
            "Enter name 2sanju\n",
            "Enter mark 267\n",
            "input:  {'geetha': 23, 'sanju': 67}\n",
            "output:  [('sanju', 67), ('geetha', 23)]\n"
          ],
          "name": "stdout"
        }
      ]
    },
    {
      "cell_type": "code",
      "metadata": {
        "id": "Dc63nNo9Oo5M",
        "colab_type": "code",
        "colab": {
          "base_uri": "https://localhost:8080/",
          "height": 136
        },
        "outputId": "8482d2d5-6248-4450-b352-31bf3f97291d"
      },
      "source": [
        "#2.Add  name and salary {name:salary} for n number of employees through keyboard in a dictionary and print them in name alphabetical order with salary\n",
        "n=int(input(\"Enter no of records\"))\n",
        "d={}\n",
        "import operator\n",
        "for i in range(1,n+1):\n",
        "  name= input(\"Enter name %d\"%(i))\n",
        "  s=float(input(\"Enter salary %d\"%(i)))\n",
        "  d[name]=s\n",
        "print(\"input: \",d)\n",
        "sorted_a= sorted(d.items(), key=operator.itemgetter(0))\n",
        "print(\"output: \",sorted_a)\n"
      ],
      "execution_count": 10,
      "outputs": [
        {
          "output_type": "stream",
          "text": [
            "Enter no of records2\n",
            "Enter name 1raksha\n",
            "Enter salary 156000\n",
            "Enter name 2geetha\n",
            "Enter salary 234000\n",
            "input:  {'raksha': 56000.0, 'geetha': 34000.0}\n",
            "output:  [('geetha', 34000.0), ('raksha', 56000.0)]\n"
          ],
          "name": "stdout"
        }
      ]
    },
    {
      "cell_type": "code",
      "metadata": {
        "id": "rsi1VyOVOu57",
        "colab_type": "code",
        "colab": {
          "base_uri": "https://localhost:8080/",
          "height": 204
        },
        "outputId": "f100b0d4-f1d7-4d25-f17e-a0ebfba71fb4"
      },
      "source": [
        "#3.Add  name and salary {name:salary} for n number of employees through keyboard in a dictionary and print them in salary  ascending order and  sum, max, min and average of the salaries\n",
        "n=int(input(\"Enter no of records\"))\n",
        "d={}\n",
        "import operator\n",
        "for i in range(1,n+1):\n",
        "  name= input(\"Enter name %d\"%(i))\n",
        "  s=float(input(\"Enter salary %d\"%(i)))\n",
        "  d[name]=s\n",
        "print(\"input: \",d)\n",
        "sorted_a= sorted(d.items(), key=operator.itemgetter(1))\n",
        "print(\"output: \",sorted_a)\n",
        "v = d.values()\n",
        "print(\"sum: \",sum(v))\n",
        "print(\"max: \",max(v))\n",
        "print(\"min: \",min(v))\n",
        "print(\"avg: \",(sum(v)/n))\n"
      ],
      "execution_count": 11,
      "outputs": [
        {
          "output_type": "stream",
          "text": [
            "Enter no of records2\n",
            "Enter name 1sri\n",
            "Enter salary 156000\n",
            "Enter name 2jasmine\n",
            "Enter salary 278000\n",
            "input:  {'sri': 56000.0, 'jasmine': 78000.0}\n",
            "output:  [('sri', 56000.0), ('jasmine', 78000.0)]\n",
            "sum:  134000.0\n",
            "max:  78000.0\n",
            "min:  56000.0\n",
            "avg:  67000.0\n"
          ],
          "name": "stdout"
        }
      ]
    },
    {
      "cell_type": "code",
      "metadata": {
        "id": "L-u6hqiJOz6u",
        "colab_type": "code",
        "colab": {
          "base_uri": "https://localhost:8080/",
          "height": 85
        },
        "outputId": "7ffefa43-4e9f-4851-ada2-e08a8f51f1a7"
      },
      "source": [
        "#4.Add name and salary {name:salary} for n number of employees through keyboard in a dictionary and print only the employees whose salary is greater than 2000 but less than 4000\n",
        "n=int(input(\"Enter no of records\"))\n",
        "d={}\n",
        "import operator\n",
        "for i in range(1,n+1):\n",
        "  name= input(\"Enter name %d\"%(i))\n",
        "  s=int(input(\"Enter salary %d\"%(i)))\n",
        "  d[name]=s\n",
        "print(\"input: \",d)\n",
        "for key,value in d.items():\n",
        "    if value>=2000 and value<=4000:\n",
        "         print(d[key],\"=\",key)"
      ],
      "execution_count": 13,
      "outputs": [
        {
          "output_type": "stream",
          "text": [
            "Enter no of records1\n",
            "Enter name 1rami\n",
            "Enter salary 135000\n",
            "input:  {'rami': 35000}\n"
          ],
          "name": "stdout"
        }
      ]
    },
    {
      "cell_type": "code",
      "metadata": {
        "id": "8vK1lSEQO5as",
        "colab_type": "code",
        "colab": {
          "base_uri": "https://localhost:8080/",
          "height": 68
        },
        "outputId": "fe97f104-bf60-48f5-c6b7-2018fe1dbf5f"
      },
      "source": [
        "#5.Python program to convert a 3 digit number  into words\n",
        "def convert_to_words(num):  \n",
        "    l = len(num);    \n",
        "    if (l == 0): \n",
        "        print(\"empty string\"); \n",
        "        return; \n",
        "  \n",
        "    if (l > 4): \n",
        "        print(\"Length more than 4 is not supported\"); \n",
        "        return;   \n",
        "    single_digits = [\"zero\", \"one\", \"two\", \"three\",  \n",
        "                     \"four\", \"five\", \"six\", \"seven\",  \n",
        "                     \"eight\", \"nine\"];  \n",
        "    two_digits = [\"\", \"ten\", \"eleven\", \"twelve\",  \n",
        "                  \"thirteen\", \"fourteen\", \"fifteen\",  \n",
        "                  \"sixteen\", \"seventeen\", \"eighteen\", \n",
        "                  \"nineteen\"];  \n",
        "    tens_multiple = [\"\", \"\", \"twenty\", \"thirty\", \"forty\", \n",
        "                     \"fifty\", \"sixty\", \"seventy\", \"eighty\",  \n",
        "                     \"ninety\"]; \n",
        "    tens_power = [\"hundred\", \"thousand\"];   \n",
        "    print(num, \":\", end = \" \");   \n",
        "    if (l == 1):  \n",
        "        print(single_digits[ord(num[0]) - '0']); \n",
        "        return;  \n",
        "    x = 0; \n",
        "    while (x < len(num)):    \n",
        "        if (l >= 3): \n",
        "            if (ord(num[x]) - 48 != 0): \n",
        "                print(single_digits[ord(num[x]) - 48],  \n",
        "                                           end = \" \"); \n",
        "                print(tens_power[l - 3], end = \" \");  \n",
        "                  \n",
        "            l -= 1; \n",
        "        else:   \n",
        "            if (ord(num[x]) - 48 == 1):  \n",
        "                sum = (ord(num[x]) - 48 + \n",
        "                       ord(num[x]) - 48); \n",
        "                print(two_digits[sum]); \n",
        "                return;   \n",
        "            elif (ord(num[x]) - 48 == 2 and \n",
        "                  ord(num[x + 1]) - 48 == 0): \n",
        "                print(\"twenty\"); \n",
        "                return;  \n",
        "            else: \n",
        "                i = ord(num[x]) - 48; \n",
        "                if(i > 0): \n",
        "                    print(tens_multiple[i], end = \" \"); \n",
        "                else: \n",
        "                    print(\"\", end = \"\"); \n",
        "                x += 1; \n",
        "                if(ord(num[x]) - 48 != 0): \n",
        "                    print(single_digits[ord(num[x]) - 48]); \n",
        "        x += 1;  \n",
        "convert_to_words(\"923\"); \n",
        "convert_to_words(\"523\"); \n",
        "convert_to_words(\"898\");\n"
      ],
      "execution_count": 14,
      "outputs": [
        {
          "output_type": "stream",
          "text": [
            "923 : nine hundred twenty three\n",
            "523 : five hundred twenty three\n",
            "898 : eight hundred ninety eight\n"
          ],
          "name": "stdout"
        }
      ]
    }
  ]
}