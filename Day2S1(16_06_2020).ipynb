{
  "nbformat": 4,
  "nbformat_minor": 0,
  "metadata": {
    "colab": {
      "name": "Day2S1(16-06-2020).ipynb",
      "provenance": [],
      "authorship_tag": "ABX9TyNOt/OGK4wp5xIxfBj/ysiZ",
      "include_colab_link": true
    },
    "kernelspec": {
      "name": "python3",
      "display_name": "Python 3"
    }
  },
  "cells": [
    {
      "cell_type": "markdown",
      "metadata": {
        "id": "view-in-github",
        "colab_type": "text"
      },
      "source": [
        "<a href=\"https://colab.research.google.com/github/rousharousha/DailyReport/blob/master/Day2S1(16_06_2020).ipynb\" target=\"_parent\"><img src=\"https://colab.research.google.com/assets/colab-badge.svg\" alt=\"Open In Colab\"/></a>"
      ]
    },
    {
      "cell_type": "markdown",
      "metadata": {
        "id": "kLshJtSSIz2B",
        "colab_type": "text"
      },
      "source": [
        "List Examples"
      ]
    },
    {
      "cell_type": "code",
      "metadata": {
        "id": "u3DsJcOS7UPy",
        "colab_type": "code",
        "colab": {
          "base_uri": "https://localhost:8080/",
          "height": 85
        },
        "outputId": "a31f004c-7d92-44a9-9043-4934e1c301c6"
      },
      "source": [
        "#1.Program to find the largest number in a list.\n",
        "a=[]\n",
        "n=int(input(\"Enter number of elements:\"))\n",
        "for i in range(1,n+1):\n",
        "    b=int(input(\"Enter element:\"))\n",
        "    a.append(b)\n",
        "a.sort()\n",
        "print(\"Largest element is:\",a[n-1])\n"
      ],
      "execution_count": 11,
      "outputs": [
        {
          "output_type": "stream",
          "text": [
            "Enter number of elements:2\n",
            "Enter element:4\n",
            "Enter element:8\n",
            "Largest element is: 8\n"
          ],
          "name": "stdout"
        }
      ]
    },
    {
      "cell_type": "code",
      "metadata": {
        "id": "AA_Dz4x57eSu",
        "colab_type": "code",
        "colab": {
          "base_uri": "https://localhost:8080/",
          "height": 102
        },
        "outputId": "54b51175-482a-4ff3-93ed-dc4996b55730"
      },
      "source": [
        "#2.Python Program to put the even and odd elements in a list into two different lists.\n",
        "a=[]\n",
        "n=int(input(\"Enter number of elements:\"))\n",
        "for i in range(1,n+1):\n",
        "    b=int(input(\"Enter element:\"))\n",
        "    a.append(b)\n",
        "even=[]\n",
        "odd=[]\n",
        "for j in a:\n",
        "    if(j%2==0):\n",
        "        even.append(j)\n",
        "    else:\n",
        "        odd.append(j)\n",
        "print(\"The even list\",even)\n",
        "print(\"The odd list\",odd)"
      ],
      "execution_count": 2,
      "outputs": [
        {
          "output_type": "stream",
          "text": [
            "Enter number of elements:2\n",
            "Enter element:3\n",
            "Enter element:4\n",
            "The even list [4]\n",
            "The odd list [3]\n"
          ],
          "name": "stdout"
        }
      ]
    },
    {
      "cell_type": "code",
      "metadata": {
        "id": "6__BvNKi7nWG",
        "colab_type": "code",
        "colab": {
          "base_uri": "https://localhost:8080/",
          "height": 119
        },
        "outputId": "2026a8ca-8a10-4b80-dbd7-680a5cdf3e80"
      },
      "source": [
        "#3.Python Program to merge two lists and sort it.\n",
        "a=[]\n",
        "c=[]\n",
        "n1=int(input(\"Enter number of elements:\"))\n",
        "for i in range(1,n1+1):\n",
        "    b=int(input(\"Enter element:\"))\n",
        "    a.append(b)\n",
        "n2=int(input(\"Enter number of elements:\"))\n",
        "for i in range(1,n2+1):\n",
        "    d=int(input(\"Enter element:\"))\n",
        "    c.append(d)\n",
        "new=a+c\n",
        "new.sort()\n",
        "print(\"Sorted list is:\",new)"
      ],
      "execution_count": 3,
      "outputs": [
        {
          "output_type": "stream",
          "text": [
            "Enter number of elements:2\n",
            "Enter element:5\n",
            "Enter element:6\n",
            "Enter number of elements:1\n",
            "Enter element:6\n",
            "Sorted list is: [5, 6, 6]\n"
          ],
          "name": "stdout"
        }
      ]
    },
    {
      "cell_type": "code",
      "metadata": {
        "id": "mIyDtu3I736i",
        "colab_type": "code",
        "colab": {
          "base_uri": "https://localhost:8080/",
          "height": 34
        },
        "outputId": "0f241ecb-eaf3-4ec2-b674-0d612319256f"
      },
      "source": [
        "#4.Python Program to sort the list according to the second element in the sublist.\n",
        "\n",
        "a=[['A',34],['B',21],['C',26],['E',29]]\n",
        "for i in range(0,len(a)):\n",
        "    for j in range(i+1,len(a)):\n",
        "        if(a[i][1]>a[j][1]):\n",
        "            temp=a[j]\n",
        "            a[j]=a[i]\n",
        "            a[i]=temp\n",
        " \n",
        "print(a)"
      ],
      "execution_count": 4,
      "outputs": [
        {
          "output_type": "stream",
          "text": [
            "[['B', 21], ['C', 26], ['E', 29], ['A', 34]]\n"
          ],
          "name": "stdout"
        }
      ]
    },
    {
      "cell_type": "code",
      "metadata": {
        "id": "vAIWvEII78HZ",
        "colab_type": "code",
        "colab": {
          "base_uri": "https://localhost:8080/",
          "height": 85
        },
        "outputId": "fc020937-b0e1-4591-9b62-a703c7122a4e"
      },
      "source": [
        "#5.Python Program to find the second largest number in a list using bubble sort.\n",
        "a=[]\n",
        "n=int(input(\"Enter number of elements:\"))\n",
        "for i in range(1,n+1):\n",
        "    b=int(input(\"Enter element:\"))\n",
        "    a.append(b)\n",
        "for i in range(0,len(a)):\n",
        "    for j in range(0,len(a)-i-1):\n",
        "        if(a[j]>a[j+1]):\n",
        "            temp=a[j]\n",
        "            a[j]=a[j+1]\n",
        "            a[j+1]=temp\n",
        "print('Second largest number is:',a[n-2])"
      ],
      "execution_count": 5,
      "outputs": [
        {
          "output_type": "stream",
          "text": [
            "Enter number of elements:2\n",
            "Enter element:4\n",
            "Enter element:6\n",
            "Second largest number is: 4\n"
          ],
          "name": "stdout"
        }
      ]
    },
    {
      "cell_type": "code",
      "metadata": {
        "id": "_9OgaQPi8O0Z",
        "colab_type": "code",
        "colab": {
          "base_uri": "https://localhost:8080/",
          "height": 68
        },
        "outputId": "002ac7e9-f8cd-4b6f-fd97-ee5abad4f5da"
      },
      "source": [
        "#6.Program to create a list of tuples with the first element as the number and the second element as the square of the number.\n",
        "l_range=int(input(\"Enter the lower range:\"))\n",
        "u_range=int(input(\"Enter the upper range:\"))\n",
        "a=[(x,x**2) for x in range(l_range,u_range+1)]\n",
        "print(a)"
      ],
      "execution_count": 6,
      "outputs": [
        {
          "output_type": "stream",
          "text": [
            "Enter the lower range:5\n",
            "Enter the upper range:3\n",
            "[]\n"
          ],
          "name": "stdout"
        }
      ]
    },
    {
      "cell_type": "code",
      "metadata": {
        "id": "aknmdyf28f-Q",
        "colab_type": "code",
        "colab": {
          "base_uri": "https://localhost:8080/",
          "height": 51
        },
        "outputId": "a4b90d54-0ec1-4f35-be9f-fc56371f089d"
      },
      "source": [
        "#7.Python Program to generate random numbers from 1 to 20 and append them to the list.\n",
        "\n",
        "import random\n",
        "a=[]\n",
        "n=int(input(\"Enter number of elements:\"))\n",
        "for j in range(n):\n",
        "    a.append(random.randint(1,20))\n",
        "print('Randomised list is: ',a)"
      ],
      "execution_count": 7,
      "outputs": [
        {
          "output_type": "stream",
          "text": [
            "Enter number of elements:2\n",
            "Randomised list is:  [17, 8]\n"
          ],
          "name": "stdout"
        }
      ]
    },
    {
      "cell_type": "markdown",
      "metadata": {
        "id": "8mUjWvNUHhie",
        "colab_type": "text"
      },
      "source": [
        "List Exercise"
      ]
    },
    {
      "cell_type": "code",
      "metadata": {
        "id": "lHVtMpX7_rrH",
        "colab_type": "code",
        "colab": {
          "base_uri": "https://localhost:8080/",
          "height": 54
        },
        "outputId": "dde086f1-639e-4e03-993e-aaf2813427d4"
      },
      "source": [
        "#1.Print multiples of 3 upto 200 using a list\n",
        "lst=[i for i in range(0,200,3)]\n",
        "print(lst)"
      ],
      "execution_count": 1,
      "outputs": [
        {
          "output_type": "stream",
          "text": [
            "[0, 3, 6, 9, 12, 15, 18, 21, 24, 27, 30, 33, 36, 39, 42, 45, 48, 51, 54, 57, 60, 63, 66, 69, 72, 75, 78, 81, 84, 87, 90, 93, 96, 99, 102, 105, 108, 111, 114, 117, 120, 123, 126, 129, 132, 135, 138, 141, 144, 147, 150, 153, 156, 159, 162, 165, 168, 171, 174, 177, 180, 183, 186, 189, 192, 195, 198]\n"
          ],
          "name": "stdout"
        }
      ]
    },
    {
      "cell_type": "code",
      "metadata": {
        "id": "IY6C3sOoG5Hy",
        "colab_type": "code",
        "colab": {
          "base_uri": "https://localhost:8080/",
          "height": 54
        },
        "outputId": "7b846434-99f8-45c1-a9b2-45dcb5275ede"
      },
      "source": [
        "#2.Print multiples of 3 upto 200 using a list\n",
        "lst=[i for i in range(0,200,3)]\n",
        "print(lst)"
      ],
      "execution_count": 2,
      "outputs": [
        {
          "output_type": "stream",
          "text": [
            "[0, 3, 6, 9, 12, 15, 18, 21, 24, 27, 30, 33, 36, 39, 42, 45, 48, 51, 54, 57, 60, 63, 66, 69, 72, 75, 78, 81, 84, 87, 90, 93, 96, 99, 102, 105, 108, 111, 114, 117, 120, 123, 126, 129, 132, 135, 138, 141, 144, 147, 150, 153, 156, 159, 162, 165, 168, 171, 174, 177, 180, 183, 186, 189, 192, 195, 198]\n"
          ],
          "name": "stdout"
        }
      ]
    },
    {
      "cell_type": "code",
      "metadata": {
        "id": "oIFIeO9mHCEc",
        "colab_type": "code",
        "colab": {
          "base_uri": "https://localhost:8080/",
          "height": 119
        },
        "outputId": "e0496ac2-ad89-45b6-96c0-f7dafa8938a5"
      },
      "source": [
        "#3.Add the n number of names in a list and print them alphabetically and reverse alphabetically.\n",
        "names=[]\n",
        "n=int(input('Enter n:'))\n",
        "for i in range(0,n):\n",
        "  name=input('Enter name:')\n",
        "  names.append(name)\n",
        "print('The list is:',names)\n",
        "alphlist=sorted(names,reverse=False)\n",
        "print('Names in alphabetical order:',alphlist)\n",
        "revlist=sorted(names,reverse=True)\n",
        "print('Names in reverse alphabetical order:',revlist)"
      ],
      "execution_count": 3,
      "outputs": [
        {
          "output_type": "stream",
          "text": [
            "Enter n:2\n",
            "Enter name:malayalam\n",
            "Enter name:banana\n",
            "The list is: ['malayalam', 'banana']\n",
            "Names in alphabetical order: ['banana', 'malayalam']\n",
            "Names in reverse alphabetical order: ['malayalam', 'banana']\n"
          ],
          "name": "stdout"
        }
      ]
    },
    {
      "cell_type": "code",
      "metadata": {
        "id": "pxVg_igyHZIl",
        "colab_type": "code",
        "colab": {
          "base_uri": "https://localhost:8080/",
          "height": 54
        },
        "outputId": "0cdf5a61-93bc-4492-beaf-164618fbb374"
      },
      "source": [
        "#4.Print  perfect squares divisible by 5 between 500 and 1000( (both inclusive) using list\n",
        "lst=[i*i for i in range(500,1001) if i%5==0]\n",
        "print(lst)"
      ],
      "execution_count": 4,
      "outputs": [
        {
          "output_type": "stream",
          "text": [
            "[250000, 255025, 260100, 265225, 270400, 275625, 280900, 286225, 291600, 297025, 302500, 308025, 313600, 319225, 324900, 330625, 336400, 342225, 348100, 354025, 360000, 366025, 372100, 378225, 384400, 390625, 396900, 403225, 409600, 416025, 422500, 429025, 435600, 442225, 448900, 455625, 462400, 469225, 476100, 483025, 490000, 497025, 504100, 511225, 518400, 525625, 532900, 540225, 547600, 555025, 562500, 570025, 577600, 585225, 592900, 600625, 608400, 616225, 624100, 632025, 640000, 648025, 656100, 664225, 672400, 680625, 688900, 697225, 705600, 714025, 722500, 731025, 739600, 748225, 756900, 765625, 774400, 783225, 792100, 801025, 810000, 819025, 828100, 837225, 846400, 855625, 864900, 874225, 883600, 893025, 902500, 912025, 921600, 931225, 940900, 950625, 960400, 970225, 980100, 990025, 1000000]\n"
          ],
          "name": "stdout"
        }
      ]
    },
    {
      "cell_type": "markdown",
      "metadata": {
        "id": "7gTm-7jhI_Vt",
        "colab_type": "text"
      },
      "source": [
        "Tuple Examples\n"
      ]
    },
    {
      "cell_type": "code",
      "metadata": {
        "id": "XgYML_AFJFRH",
        "colab_type": "code",
        "colab": {
          "base_uri": "https://localhost:8080/",
          "height": 34
        },
        "outputId": "22950efc-0acc-4746-d0e0-b8ddd8f00a94"
      },
      "source": [
        "#1.Write python program to have a list of words  to sort them from longest to shortest using list of tuples\n",
        " \n",
        "txt = 'but soft what light in yonder window breaks'\n",
        "words = txt.split()\n",
        "t = list()\n",
        "for word in words:\n",
        "   t.append((len(word), word))\n",
        "t.sort(reverse=True)\n",
        "\n",
        "res = list()\n",
        "for length, word in t:\n",
        "    res.append(word)\n",
        "\n",
        "print(res)"
      ],
      "execution_count": 6,
      "outputs": [
        {
          "output_type": "stream",
          "text": [
            "['yonder', 'window', 'breaks', 'light', 'what', 'soft', 'but', 'in']\n"
          ],
          "name": "stdout"
        }
      ]
    },
    {
      "cell_type": "code",
      "metadata": {
        "id": "JrpIoy_8JTId",
        "colab_type": "code",
        "colab": {
          "base_uri": "https://localhost:8080/",
          "height": 51
        },
        "outputId": "3544ed77-0a63-4f49-d31c-f2f8f5be444d"
      },
      "source": [
        "#2.Python program that assigns variables\n",
        "\n",
        "# Create packed tuple.\n",
        "pair = (\"dog\", \"cat\")\n",
        "\n",
        "# Unpack tuple.\n",
        "(key, value) = pair\n",
        "\n",
        "# Display unpacked variables.\n",
        "print(key)\n",
        "print(value)"
      ],
      "execution_count": 7,
      "outputs": [
        {
          "output_type": "stream",
          "text": [
            "dog\n",
            "cat\n"
          ],
          "name": "stdout"
        }
      ]
    },
    {
      "cell_type": "code",
      "metadata": {
        "id": "PHCmHVmMJeeb",
        "colab_type": "code",
        "colab": {
          "base_uri": "https://localhost:8080/",
          "height": 51
        },
        "outputId": "2b2d1165-8fee-436e-c168-83adb47acdaa"
      },
      "source": [
        "#3.Python program that searches tuples\n",
        "pair = (\"dog\", \"cat\")\n",
        "\n",
        "# Search for a value.\n",
        "if \"cat\" in pair:\n",
        "    print(\"Cat found\")\n",
        "\n",
        "# Search for a value not present.\n",
        "if \"bird\" not in pair:\n",
        "    print(\"Bird not found\")"
      ],
      "execution_count": 8,
      "outputs": [
        {
          "output_type": "stream",
          "text": [
            "Cat found\n",
            "Bird not found\n"
          ],
          "name": "stdout"
        }
      ]
    },
    {
      "cell_type": "markdown",
      "metadata": {
        "id": "YwGKuPYQHk-d",
        "colab_type": "text"
      },
      "source": [
        "Tuple Exercise"
      ]
    },
    {
      "cell_type": "code",
      "metadata": {
        "id": "zIHUYxVLHo9i",
        "colab_type": "code",
        "colab": {
          "base_uri": "https://localhost:8080/",
          "height": 119
        },
        "outputId": "21e55d81-aa4b-4df8-8b3d-1ead3e030e72"
      },
      "source": [
        "#1.Get a string and store word by word as element in tuple and find the largest word in the tuple and print it\n",
        "a=[]\n",
        "n= int(input(\"Enter the number of elements in list:\"))\n",
        "for x in range(0,n):\n",
        "    element=input(\"Enter element\" + str(x+1) + \":\")\n",
        "    a.append(element)\n",
        "max1=len(a[0])\n",
        "temp=a[0]\n",
        "for i in a:\n",
        "    if(len(i)>max1):\n",
        "       max1=len(i)\n",
        "       temp=i\n",
        "print(\"The word with the longest length is:\")\n",
        "print(temp)"
      ],
      "execution_count": 5,
      "outputs": [
        {
          "output_type": "stream",
          "text": [
            "Enter the number of elements in list:3\n",
            "Enter element1:aiet\n",
            "Enter element2:welcome\n",
            "Enter element3:to\n",
            "The word with the longest length is:\n",
            "welcome\n"
          ],
          "name": "stdout"
        }
      ]
    },
    {
      "cell_type": "code",
      "metadata": {
        "id": "ObSQ4L6SQ78l",
        "colab_type": "code",
        "colab": {
          "base_uri": "https://localhost:8080/",
          "height": 119
        },
        "outputId": "e896b361-bdd4-438d-84e7-5f2e3c6fd263"
      },
      "source": [
        "#2. Get rollno and marks (Rollno, mark) as list of tuples for n number of students through keyboard  and print them in marks descending order with rollno\n",
        "import operator\n",
        "n=int(input('Enter n:'))\n",
        "d={}\n",
        "for i in range(0,n):\n",
        "  name=input('Enter student name:')\n",
        "  marks=input('Enter marks:')\n",
        "  d[name]=marks\n",
        "t=list(d.items())\n",
        "lst=sorted(t,key=operator.itemgetter(1),reverse=True)\n",
        "print(lst)\n"
      ],
      "execution_count": 9,
      "outputs": [
        {
          "output_type": "stream",
          "text": [
            "Enter n:2\n",
            "Enter student name:shruthi\n",
            "Enter marks:56\n",
            "Enter student name:megha\n",
            "Enter marks:89\n",
            "[('megha', '89'), ('shruthi', '56')]\n"
          ],
          "name": "stdout"
        }
      ]
    },
    {
      "cell_type": "code",
      "metadata": {
        "id": "DtXXcHDiRWHO",
        "colab_type": "code",
        "colab": {
          "base_uri": "https://localhost:8080/",
          "height": 119
        },
        "outputId": "deb4f214-a929-4a85-e8f6-10a3a693c69b"
      },
      "source": [
        "#3.Get name and salary (name, salary) as list of tuples for n number of employees through keyboard and print them in name alphabetical order with salary\n",
        "import operator\n",
        "n=int(input('Enter n:'))\n",
        "d={}\n",
        "for i in range(0,n):\n",
        "  name=input('Enter employee name:')\n",
        "  salary=input('Enter salary:')\n",
        "  d[name]=salary\n",
        "t=list(d.items())\n",
        "lst=sorted(t,key=operator.itemgetter(1),reverse=False)\n",
        "print(lst)"
      ],
      "execution_count": 10,
      "outputs": [
        {
          "output_type": "stream",
          "text": [
            "Enter n:2\n",
            "Enter employee name:ramesh\n",
            "Enter salary:7800\n",
            "Enter employee name:umesh\n",
            "Enter salary:4500\n",
            "[('umesh', '4500'), ('ramesh', '7800')]\n"
          ],
          "name": "stdout"
        }
      ]
    }
  ]
}