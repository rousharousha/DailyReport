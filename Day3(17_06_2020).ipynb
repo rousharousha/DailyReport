{
  "nbformat": 4,
  "nbformat_minor": 0,
  "metadata": {
    "colab": {
      "name": "Day3(17-06-2020).ipynb",
      "provenance": [],
      "authorship_tag": "ABX9TyN0QkCqIQdY+aPTKd9sICls",
      "include_colab_link": true
    },
    "kernelspec": {
      "name": "python3",
      "display_name": "Python 3"
    }
  },
  "cells": [
    {
      "cell_type": "markdown",
      "metadata": {
        "id": "view-in-github",
        "colab_type": "text"
      },
      "source": [
        "<a href=\"https://colab.research.google.com/github/rousharousha/DailyReport/blob/master/Day3(17_06_2020).ipynb\" target=\"_parent\"><img src=\"https://colab.research.google.com/assets/colab-badge.svg\" alt=\"Open In Colab\"/></a>"
      ]
    },
    {
      "cell_type": "code",
      "metadata": {
        "id": "JBQzT1RLkN6p",
        "colab_type": "code",
        "colab": {
          "base_uri": "https://localhost:8080/",
          "height": 221
        },
        "outputId": "fa6e3b99-4033-49f4-ddcc-ef6a5e24c776"
      },
      "source": [
        "#1.Write a Pandas program to create and display a one-dimensional array using series containing event numbers upto 10000\n",
        "#tip : use List Comprehension ds = pd.Series([0,2, 4, 6, 8..... 10000])\n",
        "#Code:-\n",
        "import pandas as pd\n",
        "ds = pd.Series([x for x in range(1000) if x%2==0])\n",
        "print(ds)"
      ],
      "execution_count": 1,
      "outputs": [
        {
          "output_type": "stream",
          "text": [
            "0        0\n",
            "1        2\n",
            "2        4\n",
            "3        6\n",
            "4        8\n",
            "      ... \n",
            "495    990\n",
            "496    992\n",
            "497    994\n",
            "498    996\n",
            "499    998\n",
            "Length: 500, dtype: int64\n"
          ],
          "name": "stdout"
        }
      ]
    },
    {
      "cell_type": "code",
      "metadata": {
        "id": "SPMoswvxkieJ",
        "colab_type": "code",
        "colab": {
          "base_uri": "https://localhost:8080/",
          "height": 221
        },
        "outputId": "8c1fb011-086d-406b-96b6-036d81f776af"
      },
      "source": [
        "#2.Write a Pandas program to convert a Panda module Series of the numbers which are between 1000 and 2000 (both inclusive) and divisable by 5 to Python list and after convertion print its type\n",
        "#Code:-\n",
        "import pandas as pd\n",
        "ds = pd.Series([x for x in range(1000,2000) if x%5==0])\n",
        "print(ds)"
      ],
      "execution_count": 2,
      "outputs": [
        {
          "output_type": "stream",
          "text": [
            "0      1000\n",
            "1      1005\n",
            "2      1010\n",
            "3      1015\n",
            "4      1020\n",
            "       ... \n",
            "195    1975\n",
            "196    1980\n",
            "197    1985\n",
            "198    1990\n",
            "199    1995\n",
            "Length: 200, dtype: int64\n"
          ],
          "name": "stdout"
        }
      ]
    },
    {
      "cell_type": "code",
      "metadata": {
        "id": "HwA8gDLMkrRb",
        "colab_type": "code",
        "colab": {
          "base_uri": "https://localhost:8080/",
          "height": 221
        },
        "outputId": "632f1bbc-727b-4c12-c45e-acfac3a35cde"
      },
      "source": [
        "#1.Write a Pandas program to create and display a one-dimensional array using series containing event numbers upto 10000\n",
        "#tip : use List Comprehension ds = pd.Series([0,2, 4, 6, 8..... 10000])[ ]\n",
        "import pandas as pd\n",
        "ds = pd.Series([x for x in range(1000) if x%2==0])\n",
        "print(ds)"
      ],
      "execution_count": 3,
      "outputs": [
        {
          "output_type": "stream",
          "text": [
            "0        0\n",
            "1        2\n",
            "2        4\n",
            "3        6\n",
            "4        8\n",
            "      ... \n",
            "495    990\n",
            "496    992\n",
            "497    994\n",
            "498    996\n",
            "499    998\n",
            "Length: 500, dtype: int64\n"
          ],
          "name": "stdout"
        }
      ]
    },
    {
      "cell_type": "code",
      "metadata": {
        "id": "MdFO9ySElxfG",
        "colab_type": "code",
        "colab": {
          "base_uri": "https://localhost:8080/",
          "height": 221
        },
        "outputId": "190165a7-8989-4b60-906c-c8205c2433d4"
      },
      "source": [
        "#2.Write a Pandas program to convert a Panda module Series of the numbers which are between 1000 and 2000 (both inclusive) and divisable by 5 to Python list and after convertion print its type[ ]\n",
        "\n",
        "import pandas as pd\n",
        "ds = pd.Series([x for x in range(1000,2000) if x%5==0])\n",
        "print(ds)\n"
      ],
      "execution_count": 4,
      "outputs": [
        {
          "output_type": "stream",
          "text": [
            "0      1000\n",
            "1      1005\n",
            "2      1010\n",
            "3      1015\n",
            "4      1020\n",
            "       ... \n",
            "195    1975\n",
            "196    1980\n",
            "197    1985\n",
            "198    1990\n",
            "199    1995\n",
            "Length: 200, dtype: int64\n"
          ],
          "name": "stdout"
        }
      ]
    },
    {
      "cell_type": "code",
      "metadata": {
        "id": "07s98GeZl43c",
        "colab_type": "code",
        "colab": {
          "base_uri": "https://localhost:8080/",
          "height": 493
        },
        "outputId": "b33e7f95-5669-4039-d856-ff39cb00c2d7"
      },
      "source": [
        "#3.Write a Pandas program to add, subtract, multiple and divide two Pandas Series and print their results using the Sample Series: [2, 4, 6, 8, ...100], [1, 3, 5, 7, 9...99]\n",
        "#Code:-\n",
        "import pandas as pd\n",
        "ds1 = pd.Series([2, 4, 6, 8, 10])\n",
        "ds2 = pd.Series([1, 3, 5, 7, 9])\n",
        "ds = ds1 + ds2\n",
        "print(\"Add two Series:\")\n",
        "print(ds)\n",
        "print(\"Subtract two Series:\")\n",
        "ds = ds1 - ds2\n",
        "print(ds)\n",
        "print(\"Multiply two Series:\")\n",
        "ds = ds1 * ds2\n",
        "print(ds)\n",
        "print(\"Divide Series1 by Series2:\")\n",
        "ds = ds1 / ds2\n",
        "print(ds)"
      ],
      "execution_count": 5,
      "outputs": [
        {
          "output_type": "stream",
          "text": [
            "Add two Series:\n",
            "0     3\n",
            "1     7\n",
            "2    11\n",
            "3    15\n",
            "4    19\n",
            "dtype: int64\n",
            "Subtract two Series:\n",
            "0    1\n",
            "1    1\n",
            "2    1\n",
            "3    1\n",
            "4    1\n",
            "dtype: int64\n",
            "Multiply two Series:\n",
            "0     2\n",
            "1    12\n",
            "2    30\n",
            "3    56\n",
            "4    90\n",
            "dtype: int64\n",
            "Divide Series1 by Series2:\n",
            "0    2.000000\n",
            "1    1.333333\n",
            "2    1.200000\n",
            "3    1.142857\n",
            "4    1.111111\n",
            "dtype: float64\n"
          ],
          "name": "stdout"
        }
      ]
    },
    {
      "cell_type": "code",
      "metadata": {
        "id": "7wNBASJ-mBDS",
        "colab_type": "code",
        "colab": {
          "base_uri": "https://localhost:8080/",
          "height": 629
        },
        "outputId": "23973d69-b435-4abf-c518-0dbecfd83f67"
      },
      "source": [
        "#4.Write a Pandas program to compare (Equivalence, greater than, less than, not equal to )the elements of the two Pandas Series.\n",
        "#Sample Series: [All positive numbers divisable by 7 upto 1000], [All positive numbers divisable by 11 upto 1000]\n",
        "#Code:-\n",
        "import pandas as pd\n",
        "ds1 = pd.Series([2, 4, 6, 8, 10])\n",
        "ds2 = pd.Series([1, 3, 5, 7, 10])\n",
        "print(\"Series1:\")\n",
        "print(ds1)\n",
        "print(\"Series2:\")\n",
        "print(ds2)\n",
        "print(\"Compare the elements of the said Series:\")\n",
        "print(\"Equals:\")\n",
        "print(ds1 == ds2)\n",
        "print(\"Greater than:\")\n",
        "print(ds1 > ds2)\n",
        "print(\"Less than:\")\n",
        "print(ds1 < ds2)"
      ],
      "execution_count": 6,
      "outputs": [
        {
          "output_type": "stream",
          "text": [
            "Series1:\n",
            "0     2\n",
            "1     4\n",
            "2     6\n",
            "3     8\n",
            "4    10\n",
            "dtype: int64\n",
            "Series2:\n",
            "0     1\n",
            "1     3\n",
            "2     5\n",
            "3     7\n",
            "4    10\n",
            "dtype: int64\n",
            "Compare the elements of the said Series:\n",
            "Equals:\n",
            "0    False\n",
            "1    False\n",
            "2    False\n",
            "3    False\n",
            "4     True\n",
            "dtype: bool\n",
            "Greater than:\n",
            "0     True\n",
            "1     True\n",
            "2     True\n",
            "3     True\n",
            "4    False\n",
            "dtype: bool\n",
            "Less than:\n",
            "0    False\n",
            "1    False\n",
            "2    False\n",
            "3    False\n",
            "4    False\n",
            "dtype: bool\n"
          ],
          "name": "stdout"
        }
      ]
    },
    {
      "cell_type": "code",
      "metadata": {
        "id": "05w14QXTmOMZ",
        "colab_type": "code",
        "colab": {
          "base_uri": "https://localhost:8080/",
          "height": 170
        },
        "outputId": "b5300f38-d641-4ae6-bd12-222912c54752"
      },
      "source": [
        "#5.Write a Pandas program to convert a NumPy array to a Pandas series.\n",
        "#Sample NumPy array: d1 = [10, 20, 30, 40, 50... 1000]\n",
        "import numpy as np\n",
        "import pandas as pd\n",
        "np_array = np.array([10, 20, 30, 40, 50])\n",
        "print(\"NumPy array:\")\n",
        "print(np_array)\n",
        "new_series = pd.Series(np_array)\n",
        "print(\"Converted Pandas series:\")\n",
        "print(new_series)"
      ],
      "execution_count": 7,
      "outputs": [
        {
          "output_type": "stream",
          "text": [
            "NumPy array:\n",
            "[10 20 30 40 50]\n",
            "Converted Pandas series:\n",
            "0    10\n",
            "1    20\n",
            "2    30\n",
            "3    40\n",
            "4    50\n",
            "dtype: int64\n"
          ],
          "name": "stdout"
        }
      ]
    },
    {
      "cell_type": "code",
      "metadata": {
        "id": "1PMFDgo6rWUe",
        "colab_type": "code",
        "colab": {
          "base_uri": "https://localhost:8080/",
          "height": 289
        },
        "outputId": "63a31cca-72de-4aff-919d-fb9fec6fec3b"
      },
      "source": [
        "#6.Write a Pandas program to convert a given Series to an array.\n",
        "#Sample series is ['100', '200', ‘300’,’400’,’500’,'python', '300.12', '400',’is’,’great’,’language’]\n",
        "#Code:-\n",
        "import pandas as pd\n",
        "import numpy as np\n",
        "s1 = pd.Series(['100', '200', '300','400','500','python', '300.12', '400','is','great','language'])\n",
        "print(\"Original Data Series:\")\n",
        "print(s1)\n",
        "print(\"Series to an array\")\n",
        "a = np.array(s1.values.tolist())\n",
        "print (a)"
      ],
      "execution_count": 8,
      "outputs": [
        {
          "output_type": "stream",
          "text": [
            "Original Data Series:\n",
            "0          100\n",
            "1          200\n",
            "2          300\n",
            "3          400\n",
            "4          500\n",
            "5       python\n",
            "6       300.12\n",
            "7          400\n",
            "8           is\n",
            "9        great\n",
            "10    language\n",
            "dtype: object\n",
            "Series to an array\n",
            "['100' '200' '300' '400' '500' 'python' '300.12' '400' 'is' 'great'\n",
            " 'language']\n"
          ],
          "name": "stdout"
        }
      ]
    },
    {
      "cell_type": "code",
      "metadata": {
        "id": "cwhyXIpJrez7",
        "colab_type": "code",
        "colab": {
          "base_uri": "https://localhost:8080/",
          "height": 289
        },
        "outputId": "33bf081d-0d5b-46d9-a72f-e0b2efc3b173"
      },
      "source": [
        "#7.Write a Pandas program to sort a given Series.\n",
        "#Sample series is ['100', '200', ‘300’,’400’,’500’,'python', '300.12', '400',’is’,’great’,’language’]\n",
        "#Code:-\n",
        "import pandas as pd\n",
        "import numpy as np\n",
        "s1 = pd.Series(['100', '200', '300','400','500','python', '300.12', '400','is','great','language'])\n",
        "print(\"Original Data Series:\")\n",
        "print(s1)\n",
        "print(\"Series to an array\")\n",
        "a = np.array(s1.values.tolist())\n",
        "a.sort()\n",
        "print (a)\n"
      ],
      "execution_count": 9,
      "outputs": [
        {
          "output_type": "stream",
          "text": [
            "Original Data Series:\n",
            "0          100\n",
            "1          200\n",
            "2          300\n",
            "3          400\n",
            "4          500\n",
            "5       python\n",
            "6       300.12\n",
            "7          400\n",
            "8           is\n",
            "9        great\n",
            "10    language\n",
            "dtype: object\n",
            "Series to an array\n",
            "['100' '200' '300' '300.12' '400' '400' '500' 'great' 'is' 'language'\n",
            " 'python']\n"
          ],
          "name": "stdout"
        }
      ]
    },
    {
      "cell_type": "code",
      "metadata": {
        "id": "IK6YKsIZrohT",
        "colab_type": "code",
        "colab": {
          "base_uri": "https://localhost:8080/",
          "height": 391
        },
        "outputId": "ce975edc-13c1-44e1-c85d-52b08d0103ee"
      },
      "source": [
        "#8.Write a Pandas program to create a subsets of a given series based on value and condition.\n",
        "#Sample NumPy array: d1 = [10, 20, 30, 40, 50... 1000] value and condtion : Subset 1 :numbers divisable by 7 Subset 2 : numbers divisable by 5\n",
        "#Code:-\n",
        "import pandas as pd\n",
        "s = pd.Series([0, 1,2,3,4,5,6,7,8,9,10])\n",
        "print(\"Original Data Series:\")\n",
        "print(s)\n",
        "print(\"\\nSubset of the above Data Series:\")\n",
        "n = 6\n",
        "new_s = s[s < n]\n",
        "print(new_s)"
      ],
      "execution_count": 10,
      "outputs": [
        {
          "output_type": "stream",
          "text": [
            "Original Data Series:\n",
            "0      0\n",
            "1      1\n",
            "2      2\n",
            "3      3\n",
            "4      4\n",
            "5      5\n",
            "6      6\n",
            "7      7\n",
            "8      8\n",
            "9      9\n",
            "10    10\n",
            "dtype: int64\n",
            "\n",
            "Subset of the above Data Series:\n",
            "0    0\n",
            "1    1\n",
            "2    2\n",
            "3    3\n",
            "4    4\n",
            "5    5\n",
            "dtype: int64\n"
          ],
          "name": "stdout"
        }
      ]
    },
    {
      "cell_type": "code",
      "metadata": {
        "id": "GCCMYvp9rvEf",
        "colab_type": "code",
        "colab": {
          "base_uri": "https://localhost:8080/",
          "height": 306
        },
        "outputId": "c8ec1f52-3ded-4447-bcb4-eefe4f36ee21"
      },
      "source": [
        "#9.Write a Pandas program to create the mean and standard deviation, maximum and minimum of the data of a given Series of the prime numbers upto 1000\n",
        "#Code:-\n",
        "import pandas as pd\n",
        "s = pd.Series(data = [x for x in range(1000) if x%2==0])\n",
        "print(\"Original Data Series:\")\n",
        "print(s)\n",
        "print(\"Mean of the said Data Series:\")\n",
        "print(s.mean())\n",
        "print(\"Standard deviation of the said Data Series:\")\n",
        "print(s.std())"
      ],
      "execution_count": 11,
      "outputs": [
        {
          "output_type": "stream",
          "text": [
            "Original Data Series:\n",
            "0        0\n",
            "1        2\n",
            "2        4\n",
            "3        6\n",
            "4        8\n",
            "      ... \n",
            "495    990\n",
            "496    992\n",
            "497    994\n",
            "498    996\n",
            "499    998\n",
            "Length: 500, dtype: int64\n",
            "Mean of the said Data Series:\n",
            "499.0\n",
            "Standard deviation of the said Data Series:\n",
            "288.9636655359978\n"
          ],
          "name": "stdout"
        }
      ]
    },
    {
      "cell_type": "code",
      "metadata": {
        "id": "2DwevPGQr04d",
        "colab_type": "code",
        "colab": {
          "base_uri": "https://localhost:8080/",
          "height": 119
        },
        "outputId": "61dd4d9b-f1ff-40ce-97c8-1693e2bf182d"
      },
      "source": [
        "#10.Write a Pandas program to get the elements of an array values into column-wise.\n",
        "#Sample data: {‘X’:[All odd numbers but not divisable by 7 upto 1000], 'Y':[ All even numbers but not divisable by 5 upto 1000 ],'Z':[ All odd numbers but not divisable by 3 upto 1000]}\n",
        "#Code:-\n",
        "import pandas as pd\n",
        "df = pd.DataFrame({'X':[78,85,96,80,86], 'Y':[84,94,89,83,86],'Z':[86,97,96,72,83]});\n",
        "print(df)"
      ],
      "execution_count": 12,
      "outputs": [
        {
          "output_type": "stream",
          "text": [
            "    X   Y   Z\n",
            "0  78  84  86\n",
            "1  85  94  97\n",
            "2  96  89  96\n",
            "3  80  83  72\n",
            "4  86  86  83\n"
          ],
          "name": "stdout"
        }
      ]
    },
    {
      "cell_type": "code",
      "metadata": {
        "id": "G_lCa1qntE23",
        "colab_type": "code",
        "colab": {
          "base_uri": "https://localhost:8080/",
          "height": 102
        },
        "outputId": "9f856f3a-8cfa-40a3-b2b2-a3b55164381b"
      },
      "source": [
        "#11.Write a NumPy program to create a random 4x4 array and extract the 2nd and 3rd rows of the array and store them into a variable\n",
        "#Code:-\n",
        "import numpy as np\n",
        "x = np.random.random((4,4))\n",
        "print(\"Original Array:\")\n",
        "print(x)"
      ],
      "execution_count": 25,
      "outputs": [
        {
          "output_type": "stream",
          "text": [
            "Original Array:\n",
            "[[0.57896089 0.02578481 0.35956408 0.01313979]\n",
            " [0.99411167 0.52035298 0.64376089 0.4868204 ]\n",
            " [0.11116108 0.40340217 0.54968082 0.82454403]\n",
            " [0.30675936 0.19629001 0.80807841 0.5943139 ]]\n"
          ],
          "name": "stdout"
        }
      ]
    },
    {
      "cell_type": "code",
      "metadata": {
        "id": "5g48iU28tWXx",
        "colab_type": "code",
        "colab": {
          "base_uri": "https://localhost:8080/",
          "height": 408
        },
        "outputId": "c18aa261-6273-45c0-a7a7-320123eaba77"
      },
      "source": [
        "#12.Write a NumPy program to create a 10x10 array with random values and find the minimum and maximum values.\n",
        "#Code:-\n",
        "import numpy as np\n",
        "x = np.random.random((10,10))\n",
        "print(\"Original Array:\")\n",
        "print(x) \n",
        "xmin, xmax = x.min(), x.max()\n",
        "print(\"Minimum and Maximum Values:\")\n",
        "print(xmin, xmax)"
      ],
      "execution_count": 24,
      "outputs": [
        {
          "output_type": "stream",
          "text": [
            "Original Array:\n",
            "[[0.45433577 0.2580506  0.42753965 0.98120255 0.30906696 0.31118265\n",
            "  0.18531258 0.48801143 0.19739271 0.65704291]\n",
            " [0.73677947 0.52426051 0.17018644 0.91029862 0.45576036 0.94915803\n",
            "  0.17592983 0.8276385  0.01147135 0.49408806]\n",
            " [0.64204829 0.28285665 0.3329348  0.32977997 0.22717403 0.14617743\n",
            "  0.61078119 0.216422   0.53315308 0.86542678]\n",
            " [0.72851208 0.81405201 0.4083909  0.41329779 0.72865239 0.27119215\n",
            "  0.44289117 0.37396927 0.48335539 0.41149126]\n",
            " [0.44999305 0.10327658 0.52292787 0.18803481 0.4658976  0.56460915\n",
            "  0.96865022 0.28769066 0.18349736 0.03009933]\n",
            " [0.79267003 0.45077018 0.59029067 0.92512475 0.63545257 0.10829421\n",
            "  0.73713133 0.69189874 0.02741555 0.61219173]\n",
            " [0.35683622 0.13919039 0.39256651 0.33473293 0.94838833 0.96835428\n",
            "  0.29874065 0.38023028 0.3871583  0.0459906 ]\n",
            " [0.2873179  0.54115666 0.59535866 0.15729277 0.77396391 0.18487232\n",
            "  0.64274472 0.31854211 0.41258189 0.93346215]\n",
            " [0.06870585 0.10149921 0.50430966 0.7829852  0.67611296 0.59411633\n",
            "  0.08247013 0.33985072 0.68386072 0.47065894]\n",
            " [0.58129131 0.40519015 0.63249689 0.39191248 0.88149775 0.14255151\n",
            "  0.72720083 0.0867487  0.3623637  0.68519152]]\n",
            "Minimum and Maximum Values:\n",
            "0.011471347724924974 0.9812025464042428\n"
          ],
          "name": "stdout"
        }
      ]
    },
    {
      "cell_type": "code",
      "metadata": {
        "id": "BIjGvInCuKdv",
        "colab_type": "code",
        "colab": {
          "base_uri": "https://localhost:8080/",
          "height": 34
        },
        "outputId": "ad2b093c-0848-4068-9a89-63b41248068c"
      },
      "source": [
        "#13.Write a NumPy program to generate 8 random integers between 100 and 300\n",
        "#Code:-\n",
        "import numpy as np\n",
        "x = np.random.randint(low=100, high=300, size=8)\n",
        "print(x)\n"
      ],
      "execution_count": 23,
      "outputs": [
        {
          "output_type": "stream",
          "text": [
            "[178 115 200 117 231 158 204 179]\n"
          ],
          "name": "stdout"
        }
      ]
    },
    {
      "cell_type": "code",
      "metadata": {
        "id": "pn_SZEW3uQlX",
        "colab_type": "code",
        "colab": {
          "base_uri": "https://localhost:8080/",
          "height": 187
        },
        "outputId": "4ee39c91-27d4-45ee-ff7b-afc264304b7e"
      },
      "source": [
        "#14.Write a NumPy program to create a random integer nos of size 20 and sort it\n",
        "#Code:-\n",
        "import numpy as np\n",
        "x = np.random.random(20)\n",
        "print(\"Original array:\")\n",
        "print(x)\n",
        "x.sort()\n",
        "print(\"Sorted array:\")\n",
        "print(x)"
      ],
      "execution_count": 22,
      "outputs": [
        {
          "output_type": "stream",
          "text": [
            "Original array:\n",
            "[0.30914804 0.05467441 0.7623193  0.52612471 0.48263179 0.0795539\n",
            " 0.98095046 0.31791564 0.45857165 0.17372571 0.95115478 0.21124256\n",
            " 0.35177889 0.04063353 0.14422563 0.76596377 0.95188371 0.7054014\n",
            " 0.83070625 0.41812205]\n",
            "Sorted array:\n",
            "[0.04063353 0.05467441 0.0795539  0.14422563 0.17372571 0.21124256\n",
            " 0.30914804 0.31791564 0.35177889 0.41812205 0.45857165 0.48263179\n",
            " 0.52612471 0.7054014  0.7623193  0.76596377 0.83070625 0.95115478\n",
            " 0.95188371 0.98095046]\n"
          ],
          "name": "stdout"
        }
      ]
    }
  ]
}