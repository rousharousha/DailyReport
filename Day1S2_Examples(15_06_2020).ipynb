{
  "nbformat": 4,
  "nbformat_minor": 0,
  "metadata": {
    "colab": {
      "name": "Day1S2-Examples(15-06-2020).ipynb",
      "provenance": [],
      "authorship_tag": "ABX9TyMqM2OFoJ2pdHWpJkLtbqWV",
      "include_colab_link": true
    },
    "kernelspec": {
      "name": "python3",
      "display_name": "Python 3"
    }
  },
  "cells": [
    {
      "cell_type": "markdown",
      "metadata": {
        "id": "view-in-github",
        "colab_type": "text"
      },
      "source": [
        "<a href=\"https://colab.research.google.com/github/rousharousha/DailyReport/blob/master/Day1S2_Examples(15_06_2020).ipynb\" target=\"_parent\"><img src=\"https://colab.research.google.com/assets/colab-badge.svg\" alt=\"Open In Colab\"/></a>"
      ]
    },
    {
      "cell_type": "markdown",
      "metadata": {
        "id": "_mZF5LtPZ1cs",
        "colab_type": "text"
      },
      "source": [
        "1. Python Program to find the factorial of a number using loop. "
      ]
    },
    {
      "cell_type": "code",
      "metadata": {
        "id": "LkgYG8SOZ78D",
        "colab_type": "code",
        "outputId": "d9c3c1b8-7531-401e-c302-98a31ae71220",
        "colab": {
          "base_uri": "https://localhost:8080/",
          "height": 68
        }
      },
      "source": [
        "n=int(input(\"Enter number:\"))\n",
        "fact=1\n",
        "\n",
        "while(n>0):\n",
        "    fact=fact*n\n",
        "    n=n-1\n",
        "print(\"Factorial of the number is: \")\n",
        "print(fact)\n"
      ],
      "execution_count": 0,
      "outputs": [
        {
          "output_type": "stream",
          "text": [
            "Enter number:6\n",
            "Factorial of the number is: \n",
            "720\n"
          ],
          "name": "stdout"
        }
      ]
    },
    {
      "cell_type": "markdown",
      "metadata": {
        "id": "iQkxb4XlaJxJ",
        "colab_type": "text"
      },
      "source": [
        "2.Python Program to reverse a number using loop"
      ]
    },
    {
      "cell_type": "code",
      "metadata": {
        "id": "FXlAyLZJaNxC",
        "colab_type": "code",
        "outputId": "5263357e-a77a-4d64-dd32-5485a8584bea",
        "colab": {
          "base_uri": "https://localhost:8080/",
          "height": 68
        }
      },
      "source": [
        "r=0\n",
        "n=int(input(\"Enter a number: \"))\n",
        "while(n>0):\n",
        "    dig=n%10\n",
        "    r=r*10+dig\n",
        "    n=n//10\n",
        "print(\"The reversed no  is:\")\n",
        "print(r)"
      ],
      "execution_count": 0,
      "outputs": [
        {
          "output_type": "stream",
          "text": [
            "Enter a number: 13456\n",
            "The reversed no  is:\n",
            "65431\n"
          ],
          "name": "stdout"
        }
      ]
    },
    {
      "cell_type": "markdown",
      "metadata": {
        "id": "KrG5Ec0HaqgQ",
        "colab_type": "text"
      },
      "source": [
        "3.Write a Python program to construct the following pattern, using a nested for loop.\n"
      ]
    },
    {
      "cell_type": "code",
      "metadata": {
        "id": "zQFBMi-tawKx",
        "colab_type": "code",
        "outputId": "0888298b-b0e8-40bd-9f83-ccf6c06a59b5",
        "colab": {
          "base_uri": "https://localhost:8080/",
          "height": 187
        }
      },
      "source": [
        "n=5\n",
        "for i in range(n):\n",
        "    for j in range(i):\n",
        "        print ('* ', end=\"\")\n",
        "    print('')\n",
        "\n",
        "for i in range(n,0,-1):\n",
        "    for j in range(i):\n",
        "        print('* ', end=\"\")\n",
        "    print('')"
      ],
      "execution_count": 0,
      "outputs": [
        {
          "output_type": "stream",
          "text": [
            "\n",
            "* \n",
            "* * \n",
            "* * * \n",
            "* * * * \n",
            "* * * * * \n",
            "* * * * \n",
            "* * * \n",
            "* * \n",
            "* \n"
          ],
          "name": "stdout"
        }
      ]
    },
    {
      "cell_type": "markdown",
      "metadata": {
        "id": "Kmt0e6eba6iU",
        "colab_type": "text"
      },
      "source": [
        "4.Python Program to replace all occurrences of ‘a’ with ‘$’ in a string"
      ]
    },
    {
      "cell_type": "code",
      "metadata": {
        "id": "b0uIZa3va9eN",
        "colab_type": "code",
        "outputId": "f77ad65f-585e-4f1c-b278-bf204452edd1",
        "colab": {
          "base_uri": "https://localhost:8080/",
          "height": 68
        }
      },
      "source": [
        "string=input(\"Enter string:\")\n",
        "string=string.replace('a','$')\n",
        "string=string.replace('A','$')\n",
        "print(\"Modified string:\")\n",
        "print(string)"
      ],
      "execution_count": 0,
      "outputs": [
        {
          "output_type": "stream",
          "text": [
            "Enter string:Banana\n",
            "Modified string:\n",
            "B$n$n$\n"
          ],
          "name": "stdout"
        }
      ]
    },
    {
      "cell_type": "markdown",
      "metadata": {
        "id": "YjnvwT6UbY6b",
        "colab_type": "text"
      },
      "source": [
        "5.Python Program to remove the nth index character from a non-empty string."
      ]
    },
    {
      "cell_type": "code",
      "metadata": {
        "id": "aOLcBkvibbWw",
        "colab_type": "code",
        "outputId": "c4ca531e-da9e-443a-88d8-4e9f96f69da9",
        "colab": {
          "base_uri": "https://localhost:8080/",
          "height": 85
        }
      },
      "source": [
        "def remove(string, n):  \n",
        "      first = string[:n]   \n",
        "      last = string[n+1:]  \n",
        "      return first + last\n",
        "string=input(\"Enter the string:\")\n",
        "n=int(input(\"Enter the index of the character to remove:\"))\n",
        "print(\"Modified string:\")\n",
        "print(remove(string, n))"
      ],
      "execution_count": 0,
      "outputs": [
        {
          "output_type": "stream",
          "text": [
            "Enter the string:python\n",
            "Enter the index of the character to remove:3\n",
            "Modified string:\n",
            "pyton\n"
          ],
          "name": "stdout"
        }
      ]
    },
    {
      "cell_type": "markdown",
      "metadata": {
        "id": "7QJfXd26btle",
        "colab_type": "text"
      },
      "source": [
        "6.Python Program to detect if two strings are anagrams."
      ]
    },
    {
      "cell_type": "code",
      "metadata": {
        "id": "KGJJE20jb0ox",
        "colab_type": "code",
        "outputId": "797f4223-8902-40b8-e40c-d56af14db9a0",
        "colab": {
          "base_uri": "https://localhost:8080/",
          "height": 68
        }
      },
      "source": [
        "s1=input(\"Enter first string:\")\n",
        "s2=input(\"Enter second string:\")\n",
        "if(sorted(s1)==sorted(s2)):\n",
        "      print(\"The strings are anagrams.\")\n",
        "else:\n",
        "      print(\"The strings aren't anagrams.\")\n"
      ],
      "execution_count": 0,
      "outputs": [
        {
          "output_type": "stream",
          "text": [
            "Enter first string:dog\n",
            "Enter second string:dog\n",
            "The strings are anagrams.\n"
          ],
          "name": "stdout"
        }
      ]
    },
    {
      "cell_type": "markdown",
      "metadata": {
        "id": "TjS0NlpFcYuR",
        "colab_type": "text"
      },
      "source": [
        "7.Python Program to form a string where the first character and the last character have been exchanged."
      ]
    },
    {
      "cell_type": "code",
      "metadata": {
        "id": "oBMuOjJqcd6c",
        "colab_type": "code",
        "outputId": "bdccb62c-4014-494f-e960-c216c5f8152e",
        "colab": {
          "base_uri": "https://localhost:8080/",
          "height": 68
        }
      },
      "source": [
        "def change(string):\n",
        "      return string[-1:] + string[1:-1] + string[:1]\n",
        "string=input(\"Enter string:\")\n",
        "print(\"Modified string:\")\n",
        "print(change(string))"
      ],
      "execution_count": 0,
      "outputs": [
        {
          "output_type": "stream",
          "text": [
            "Enter string:tab\n",
            "Modified string:\n",
            "bat\n"
          ],
          "name": "stdout"
        }
      ]
    },
    {
      "cell_type": "markdown",
      "metadata": {
        "id": "c_LMpX5DcvJC",
        "colab_type": "text"
      },
      "source": [
        "8.Python Program to count number of vowels from a non-empty string."
      ]
    },
    {
      "cell_type": "code",
      "metadata": {
        "id": "uax5Qv0bcx3K",
        "colab_type": "code",
        "outputId": "a9bb8541-6b3b-4228-e42c-23cea508b949",
        "colab": {
          "base_uri": "https://localhost:8080/",
          "height": 68
        }
      },
      "source": [
        "string=input(\"Enter string:\")\n",
        "vowels=0\n",
        "for i in string:\n",
        "      if(i=='a' or i=='e' or i=='i' or i=='o' or i=='u' or i=='A' or i=='E' or i=='I' or i=='O' or i=='U'):\n",
        "            vowels=vowels+1\n",
        "print(\"Number of vowels are:\")\n",
        "print(vowels)"
      ],
      "execution_count": 0,
      "outputs": [
        {
          "output_type": "stream",
          "text": [
            "Enter string:welcome\n",
            "Number of vowels are:\n",
            "3\n"
          ],
          "name": "stdout"
        }
      ]
    },
    {
      "cell_type": "markdown",
      "metadata": {
        "id": "55Daje7FdCDx",
        "colab_type": "text"
      },
      "source": [
        "9.Program for Divide by zero error detection"
      ]
    },
    {
      "cell_type": "code",
      "metadata": {
        "id": "Mo-yN_aJdECu",
        "colab_type": "code",
        "outputId": "2606fb0f-9ce1-458e-d282-add66f475e69",
        "colab": {
          "base_uri": "https://localhost:8080/",
          "height": 170
        }
      },
      "source": [
        "flag = True\n",
        "\n",
        "def div(a, b):  \n",
        "       try:\n",
        "            print(\"Finally the division of %d/%d is %f\" % (a, b,a/b))\n",
        "            global flag\n",
        "            flag=False\n",
        "       except ZeroDivisionError:\n",
        "            print(\"Zero Division Error detected\")\n",
        "       else:\n",
        "            print(\"Division is successful\") \n",
        "       finally:\n",
        "            if flag is True:\n",
        "               print(\"Try again\")     \n",
        "            else:\n",
        "               print(\"Thank you\")\n",
        "       \n",
        "#global flag\n",
        "\n",
        "while flag is True:\n",
        "    div(int(input(\"Enter numerator\")),int(input(\"Enter denominator\")))\n"
      ],
      "execution_count": 0,
      "outputs": [
        {
          "output_type": "stream",
          "text": [
            "Enter numerator4\n",
            "Enter denominator0\n",
            "Zero Division Error detected\n",
            "Try again\n",
            "Enter numerator13\n",
            "Enter denominator1\n",
            "Finally the division of 13/1 is 13.000000\n",
            "Division is successful\n",
            "Thank you\n"
          ],
          "name": "stdout"
        }
      ]
    },
    {
      "cell_type": "markdown",
      "metadata": {
        "id": "TBv8BXwWdn1Z",
        "colab_type": "text"
      },
      "source": [
        "10.Program for ValueError error detection"
      ]
    },
    {
      "cell_type": "code",
      "metadata": {
        "id": "hl5u_VmYdsRO",
        "colab_type": "code",
        "outputId": "bee579b9-5315-4455-eacf-56c31b52addc",
        "colab": {
          "base_uri": "https://localhost:8080/",
          "height": 85
        }
      },
      "source": [
        "while True:\n",
        "     try:\n",
        "         x = int(input(\"Please enter a number: \"))\n",
        "         print(\" That was valid number. Thank you\")\n",
        "         break\n",
        "     except ValueError:\n",
        "         print(\"Oops!  That was no valid number.  Try again...\")"
      ],
      "execution_count": 0,
      "outputs": [
        {
          "output_type": "stream",
          "text": [
            "Please enter a number: def\n",
            "Oops!  That was no valid number.  Try again...\n",
            "Please enter a number: 34\n",
            " That was valid number. Thank you\n"
          ],
          "name": "stdout"
        }
      ]
    }
  ]
}