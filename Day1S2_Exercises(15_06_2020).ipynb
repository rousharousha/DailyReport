{
  "nbformat": 4,
  "nbformat_minor": 0,
  "metadata": {
    "colab": {
      "name": "Day1S2-Exercises(15-06-2020).ipynb",
      "provenance": [],
      "authorship_tag": "ABX9TyMweLAQI9atwxw3FQlitfG1",
      "include_colab_link": true
    },
    "kernelspec": {
      "name": "python3",
      "display_name": "Python 3"
    }
  },
  "cells": [
    {
      "cell_type": "markdown",
      "metadata": {
        "id": "view-in-github",
        "colab_type": "text"
      },
      "source": [
        "<a href=\"https://colab.research.google.com/github/rousharousha/DailyReport/blob/master/Day1S2_Exercises(15_06_2020).ipynb\" target=\"_parent\"><img src=\"https://colab.research.google.com/assets/colab-badge.svg\" alt=\"Open In Colab\"/></a>"
      ]
    },
    {
      "cell_type": "markdown",
      "metadata": {
        "id": "Y-sZwE5bqh7p",
        "colab_type": "text"
      },
      "source": [
        "1 Write a program to print the triangle i/p 4\n",
        "\n",
        "1\n",
        "\n",
        "2 3\n",
        "\n",
        "3 4 5\n",
        "\n",
        "4 5 6 7"
      ]
    },
    {
      "cell_type": "code",
      "metadata": {
        "id": "EUqG1da1qmz9",
        "colab_type": "code",
        "outputId": "51cac4b7-fb88-4077-a307-201cbae9bcf9",
        "colab": {
          "base_uri": "https://localhost:8080/",
          "height": 102
        }
      },
      "source": [
        "n=int(input('Enter the value of n '))\n",
        "num=1\n",
        "for i in range(1,n+1):\n",
        "  num=i\n",
        "  for j in range(i):\n",
        "    print(num,end=\" \")\n",
        "    num=num+1\n",
        "  print()"
      ],
      "execution_count": 0,
      "outputs": [
        {
          "output_type": "stream",
          "text": [
            "Enter the value of n 4\n",
            "1 \n",
            "2 3 \n",
            "3 4 5 \n",
            "4 5 6 7 \n"
          ],
          "name": "stdout"
        }
      ]
    },
    {
      "cell_type": "code",
      "metadata": {
        "id": "_EjCC_kLrzqo",
        "colab_type": "code",
        "outputId": "03e68863-ecad-42d4-9ce5-c2fc7eb5c046",
        "colab": {
          "base_uri": "https://localhost:8080/",
          "height": 102
        }
      },
      "source": [
        "\"\"\"\"2.Enter number 4\n",
        "\n",
        "*\n",
        "* *\n",
        "* * *\n",
        "* * * *\"\"\"\n",
        "num=int(input('Enter the value of n '))\n",
        "for i in range(1,n+1):\n",
        "  for j in range(i):\n",
        "    print('*',end=\" \")\n",
        "  print()"
      ],
      "execution_count": 0,
      "outputs": [
        {
          "output_type": "stream",
          "text": [
            "Enter the value of n 5\n",
            "* \n",
            "* * \n",
            "* * * \n",
            "* * * * \n"
          ],
          "name": "stdout"
        }
      ]
    },
    {
      "cell_type": "markdown",
      "metadata": {
        "id": "OhFgIvhnsMiU",
        "colab_type": "text"
      },
      "source": [
        "3.Enter number 5\n",
        "\n",
        "5\n",
        "\n",
        "4 5\n",
        "\n",
        "3 4 5\n",
        "\n",
        "2 3 4 5\n",
        "\n",
        "1 2 3 4 5"
      ]
    },
    {
      "cell_type": "code",
      "metadata": {
        "id": "Y6Cf2XffsP6P",
        "colab_type": "code",
        "outputId": "3e1e94d7-1a0a-4a60-fafe-b7c0b7e520e2",
        "colab": {
          "base_uri": "https://localhost:8080/",
          "height": 136
        }
      },
      "source": [
        "n=int(input('Enter the value of n: '))\n",
        "for i in range(n+1,0,-1):\n",
        "  num=i\n",
        "  for j in range(i,n+1):\n",
        "    print(num,end=\" \")\n",
        "    num+=1\n",
        "  print()"
      ],
      "execution_count": 0,
      "outputs": [
        {
          "output_type": "stream",
          "text": [
            "Enter the value of n: 5\n",
            "\n",
            "5 \n",
            "4 5 \n",
            "3 4 5 \n",
            "2 3 4 5 \n",
            "1 2 3 4 5 \n"
          ],
          "name": "stdout"
        }
      ]
    },
    {
      "cell_type": "markdown",
      "metadata": {
        "id": "8dE5pFF7sYuI",
        "colab_type": "text"
      },
      "source": [
        "4 Enter number 5\n",
        "\n",
        "5 4 3 2 1\n",
        "\n",
        "4 3 2 1\n",
        "\n",
        "3 2 1\n",
        "\n",
        "2 1\n",
        "\n",
        "1"
      ]
    },
    {
      "cell_type": "code",
      "metadata": {
        "id": "hmGVAasssamZ",
        "colab_type": "code",
        "outputId": "1e1afdec-066a-4863-a57a-30f9b415a053",
        "colab": {
          "base_uri": "https://localhost:8080/",
          "height": 136
        }
      },
      "source": [
        "n=int(input('Enter the value of n '))\n",
        "for i in range(n,0,-1):\n",
        "  for j in range(i,0,-1):\n",
        "    print(j,end=\" \")\n",
        "  print()"
      ],
      "execution_count": 0,
      "outputs": [
        {
          "output_type": "stream",
          "text": [
            "Enter the value of n 6\n",
            "6 5 4 3 2 1 \n",
            "5 4 3 2 1 \n",
            "4 3 2 1 \n",
            "3 2 1 \n",
            "2 1 \n",
            "1 \n"
          ],
          "name": "stdout"
        }
      ]
    },
    {
      "cell_type": "markdown",
      "metadata": {
        "id": "BNkzjfJfsoEO",
        "colab_type": "text"
      },
      "source": [
        "5 Enter number 4\n",
        "\n",
        "1 2 3 4\n",
        "\n",
        "2 3 4\n",
        "\n",
        "3 4\n",
        "\n",
        "4\n",
        "\n",
        "3 4\n",
        "\n",
        "2 3 4\n",
        "\n",
        "1 2 3 4"
      ]
    },
    {
      "cell_type": "code",
      "metadata": {
        "id": "WrB5KdsSsqA9",
        "colab_type": "code",
        "outputId": "8b29668f-7164-4ddf-f612-1f1c6f880d7b",
        "colab": {
          "base_uri": "https://localhost:8080/",
          "height": 153
        }
      },
      "source": [
        "n=int(input('Enter the value of n '))\n",
        "for i in range(1,n+1):\n",
        "  for j in range(i,n+1):\n",
        "    print(j,end=\" \")\n",
        "  print()\n",
        "for i in range(n-1,0,-1):\n",
        "  for j in range(i,n+1):\n",
        "    print(j,end=\" \")\n",
        "  print()  "
      ],
      "execution_count": 0,
      "outputs": [
        {
          "output_type": "stream",
          "text": [
            "Enter the value of n 4\n",
            "1 2 3 4 \n",
            "2 3 4 \n",
            "3 4 \n",
            "4 \n",
            "3 4 \n",
            "2 3 4 \n",
            "1 2 3 4 \n"
          ],
          "name": "stdout"
        }
      ]
    },
    {
      "cell_type": "markdown",
      "metadata": {
        "id": "oIJ53fVEszuS",
        "colab_type": "text"
      },
      "source": [
        "6 Find the length of a string without using len functions"
      ]
    },
    {
      "cell_type": "code",
      "metadata": {
        "id": "QLoek-Uts4Dc",
        "colab_type": "code",
        "outputId": "24c02428-725c-4f1e-d0f6-c480b7208c17",
        "colab": {
          "base_uri": "https://localhost:8080/",
          "height": 51
        }
      },
      "source": [
        "string=input('Enter the String ')\n",
        "count=0\n",
        "for word in string:\n",
        "  for i in word:\n",
        "    count+=1\n",
        "print('The length of the string is ',count)"
      ],
      "execution_count": 0,
      "outputs": [
        {
          "output_type": "stream",
          "text": [
            "Enter the String 8\n",
            "The length of the string is  1\n"
          ],
          "name": "stdout"
        }
      ]
    },
    {
      "cell_type": "markdown",
      "metadata": {
        "id": "40qHUoXdtB08",
        "colab_type": "text"
      },
      "source": [
        "7 Find the no of words and characters in a string"
      ]
    },
    {
      "cell_type": "code",
      "metadata": {
        "id": "0FZ-ETLOtDqs",
        "colab_type": "code",
        "outputId": "9763c1c6-65f1-483c-c3ed-26b9378f65a5",
        "colab": {
          "base_uri": "https://localhost:8080/",
          "height": 68
        }
      },
      "source": [
        "string=input('Enter the String ')\n",
        "wordcount=0\n",
        "charcount=0\n",
        "for word in string.split():\n",
        "  wordcount+=1\n",
        "  for i in word:\n",
        "    if(len(i)>0):\n",
        "      charcount+=1\n",
        "print('Word count is ',wordcount)\n",
        "print('Character count is ',charcount)"
      ],
      "execution_count": 0,
      "outputs": [
        {
          "output_type": "stream",
          "text": [
            "Enter the String Hello Everyone\n",
            "Word count is  2\n",
            "Character count is  13\n"
          ],
          "name": "stdout"
        }
      ]
    },
    {
      "cell_type": "markdown",
      "metadata": {
        "id": "Z2u6TjvltSkF",
        "colab_type": "text"
      },
      "source": [
        "8 Find the no of occurrences of a word in a string"
      ]
    },
    {
      "cell_type": "code",
      "metadata": {
        "id": "txx1sa8qtVab",
        "colab_type": "code",
        "outputId": "e8e1d419-9e57-4792-b7fd-b781b66df076",
        "colab": {
          "base_uri": "https://localhost:8080/",
          "height": 51
        }
      },
      "source": [
        "def word_count(str):\n",
        "    counts = dict()\n",
        "    words = str.split()\n",
        "\n",
        "    for word in words:\n",
        "        if word in counts:\n",
        "            counts[word] += 1\n",
        "        else:\n",
        "            counts[word] = 1\n",
        "\n",
        "    return counts\n",
        "\n",
        "string=input('Enter the String ')\n",
        "print( word_count(string))\n"
      ],
      "execution_count": 0,
      "outputs": [
        {
          "output_type": "stream",
          "text": [
            "Enter the String welcome everyone\n",
            "{'welcome': 1, 'everyone': 1}\n"
          ],
          "name": "stdout"
        }
      ]
    }
  ]
}